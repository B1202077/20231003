{
  "nbformat": 4,
  "nbformat_minor": 0,
  "metadata": {
    "colab": {
      "provenance": []
    },
    "kernelspec": {
      "name": "python3",
      "display_name": "Python 3"
    },
    "language_info": {
      "name": "python"
    }
  },
  "cells": [
    {
      "cell_type": "code",
      "execution_count": null,
      "metadata": {
        "colab": {
          "base_uri": "https://localhost:8080/"
        },
        "id": "-xGaaalJc_mA",
        "outputId": "cab0f95d-117b-4514-905f-b5077532da55"
      },
      "outputs": [
        {
          "output_type": "stream",
          "name": "stdout",
          "text": [
            "A\n",
            "['K', 'H', 'U']\n"
          ]
        }
      ],
      "source": [
        "a='C,B,A'\n",
        "b=['F','G','H']\n",
        "c= a.split(\",\")\n",
        "d= c + b\n",
        "d[0]='K'\n",
        "e= d.pop(2)\n",
        "print(e)\n",
        "del d[1:4]\n",
        "d.append('U')\n",
        "print(d)\n",
        "\n"
      ]
    },
    {
      "cell_type": "code",
      "source": [
        "l = float(input('身高(m)'))\n",
        "m = float(input('體重(kg)'))\n",
        "m /= l**2\n",
        "print('BMI:',m)\n",
        "if m<18.5:\n",
        "    print('體位:過輕')\n",
        "elif 18.5<=m and m<24:\n",
        "    print('體位:適中')\n",
        "elif 24<=m and m<27:\n",
        "    print('體位:過重')\n",
        "else:\n",
        "    print('體位:肥胖')\n",
        "\n",
        "\n"
      ],
      "metadata": {
        "colab": {
          "base_uri": "https://localhost:8080/"
        },
        "id": "Sz2IwZXVlvyt",
        "outputId": "d3ec661c-4921-478c-f111-a1dbdefb1beb"
      },
      "execution_count": null,
      "outputs": [
        {
          "output_type": "stream",
          "name": "stdout",
          "text": [
            "身高(m)1.7\n",
            "體重(kg)64\n",
            "BMI: 22.145328719723185\n",
            "體位:適中\n"
          ]
        }
      ]
    }
  ]
}