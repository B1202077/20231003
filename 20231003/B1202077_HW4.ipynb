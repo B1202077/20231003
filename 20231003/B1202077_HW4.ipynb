{
  "nbformat": 4,
  "nbformat_minor": 0,
  "metadata": {
    "colab": {
      "provenance": []
    },
    "kernelspec": {
      "name": "python3",
      "display_name": "Python 3"
    },
    "language_info": {
      "name": "python"
    }
  },
  "cells": [
    {
      "cell_type": "code",
      "source": [
        "a=(input('成績:'))\n",
        "b=a.split()\n",
        "b[0]=int(b[0])\n",
        "b[1]=int(b[1])\n",
        "b[2]=int(b[2])\n",
        "b[3]=int(b[3])\n",
        "b[4]=int(b[4])\n",
        "b.sort()\n",
        "del b[0]\n",
        "del b[3]\n",
        "c=(b[0]+b[1]+b[2])/3\n",
        "print(c)"
      ],
      "metadata": {
        "colab": {
          "base_uri": "https://localhost:8080/"
        },
        "id": "dBxyOqhXnCfd",
        "outputId": "75a808cb-3531-48a6-8808-a5721ef425cf"
      },
      "execution_count": 9,
      "outputs": [
        {
          "output_type": "stream",
          "name": "stdout",
          "text": [
            "成績:50 90 60 70 80\n",
            "70.0\n"
          ]
        }
      ]
    },
    {
      "cell_type": "code",
      "source": [
        "a=int(input('輸入數字='))\n",
        "b=int(input('輸入數字='))\n",
        "c=input('運算符號:')\n",
        "if (c=='+'):\n",
        "  e=a+b\n",
        "  print(e)\n",
        "elif (c=='-'):\n",
        "  e=a-b\n",
        "  print(e)\n",
        "elif (c=='*'):\n",
        "  e=a*b\n",
        "  print(e)\n",
        "elif (c=='/'):\n",
        "  e=a/b\n",
        "  print(e)"
      ],
      "metadata": {
        "colab": {
          "base_uri": "https://localhost:8080/"
        },
        "id": "GZNVvaRr3Ayf",
        "outputId": "2e15e5c8-9a73-4e26-ef6f-8629412c2c5a"
      },
      "execution_count": 1,
      "outputs": [
        {
          "output_type": "stream",
          "name": "stdout",
          "text": [
            "輸入數字=5\n",
            "輸入數字=6\n",
            "運算符號:*\n",
            "30\n"
          ]
        }
      ]
    },
    {
      "cell_type": "code",
      "source": [
        "a=int(input('輸入年份:'))\n",
        "if a%4==0:\n",
        "  if a%100==0:\n",
        "    if a%400==0:\n",
        "      print('閏年')\n",
        "    else:\n",
        "      print('平年')\n",
        "  else:\n",
        "    print('閏年')\n",
        "else:\n",
        "  print('平年')"
      ],
      "metadata": {
        "colab": {
          "base_uri": "https://localhost:8080/"
        },
        "id": "WXSsdnz6oUe3",
        "outputId": "f08e54da-cede-48af-c7ca-3632e8cea4ee"
      },
      "execution_count": 7,
      "outputs": [
        {
          "output_type": "stream",
          "name": "stdout",
          "text": [
            "輸入年份:2020\n",
            "閏年\n"
          ]
        }
      ]
    }
  ]
}