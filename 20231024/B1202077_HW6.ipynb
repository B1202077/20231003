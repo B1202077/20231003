{
  "nbformat": 4,
  "nbformat_minor": 0,
  "metadata": {
    "colab": {
      "provenance": []
    },
    "kernelspec": {
      "name": "python3",
      "display_name": "Python 3"
    },
    "language_info": {
      "name": "python"
    }
  },
  "cells": [
    {
      "cell_type": "code",
      "source": [
        "h = int(input('聖誕樹高度:'))\n",
        "h += 1\n",
        "a = 2*h-1\n",
        "def tree():\n",
        "  for a in range(h):\n",
        "    print(' '*(h-a)+'*'*(2*a-1))\n",
        "  for b in range(5):\n",
        "    print(' '*(h-2)+'***')\n",
        "tree()"
      ],
      "metadata": {
        "colab": {
          "base_uri": "https://localhost:8080/"
        },
        "id": "uNyIl6JrkwXZ",
        "outputId": "f8872f3d-8474-4e2f-b273-94c929515e2d"
      },
      "execution_count": null,
      "outputs": [
        {
          "output_type": "stream",
          "name": "stdout",
          "text": [
            "聖誕樹高度:9\n",
            "          \n",
            "         *\n",
            "        ***\n",
            "       *****\n",
            "      *******\n",
            "     *********\n",
            "    ***********\n",
            "   *************\n",
            "  ***************\n",
            " *****************\n",
            "        ***\n",
            "        ***\n",
            "        ***\n",
            "        ***\n",
            "        ***\n"
          ]
        }
      ]
    },
    {
      "cell_type": "code",
      "source": [
        "try:\n",
        "  def BMI() :\n",
        "    h = float(input('身高(公分):'))\n",
        "    w = float(input('體重:'))\n",
        "    m = w / ((h/100)**2)\n",
        "    if m < 18.5 :\n",
        "      b = '體位:過輕'\n",
        "    elif 18.5 <= m and m < 24 :\n",
        "      b = '體位:適中'\n",
        "    elif 24 <= m and m < 27 :\n",
        "      b = '體位:過重'\n",
        "    else:\n",
        "      b = '體位:肥胖'\n",
        "    m = f'BMI:{m}\\n{b}'\n",
        "    return m\n",
        "  m = BMI()\n",
        "  print(m)\n",
        "except:\n",
        "  print('輸入內容有誤')\n",
        "\n"
      ],
      "metadata": {
        "colab": {
          "base_uri": "https://localhost:8080/"
        },
        "id": "iS0vTISYrpLr",
        "outputId": "17d7231b-f1f1-40f8-e701-401d99a314ab"
      },
      "execution_count": 4,
      "outputs": [
        {
          "output_type": "stream",
          "name": "stdout",
          "text": [
            "身高(公分):15.2\n",
            "體重:0\n",
            "BMI:0.0\n",
            "體位:過輕\n"
          ]
        }
      ]
    }
  ]
}