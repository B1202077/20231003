{
  "nbformat": 4,
  "nbformat_minor": 0,
  "metadata": {
    "colab": {
      "provenance": []
    },
    "kernelspec": {
      "name": "python3",
      "display_name": "Python 3"
    },
    "language_info": {
      "name": "python"
    }
  },
  "cells": [
    {
      "cell_type": "code",
      "execution_count": 1,
      "metadata": {
        "colab": {
          "base_uri": "https://localhost:8080/"
        },
        "id": "pFnNVpy4y2fc",
        "outputId": "b7891d81-7fe4-46bd-faa6-c03d1451564b"
      },
      "outputs": [
        {
          "output_type": "stream",
          "name": "stdout",
          "text": [
            "請輸入一個數字51\n",
            "離51最近的質數是47\n"
          ]
        }
      ],
      "source": [
        "def primeornot(n):\n",
        "    if n <= 1 :\n",
        "        return False\n",
        "    for i in range(2,n):\n",
        "        if n % i == 0:\n",
        "           return False\n",
        "    return True\n",
        "def findclosestprime(number):\n",
        "    if number <= 1:\n",
        "        return \"輸入錯誤\"\n",
        "    for i in range(number, 1,-1):\n",
        "        if primeornot(i):\n",
        "          return i\n",
        "    return(\"找不到最小質數\")\n",
        "number = int(input(\"請輸入一個數字\"))\n",
        "closestprime = findclosestprime(number)\n",
        "if type(closestprime) == int :\n",
        "  print(f\"離{number}最近的質數是{closestprime}\")\n",
        "else:\n",
        "  print(closestprime)"
      ]
    },
    {
      "cell_type": "code",
      "source": [
        "a=(input(\"請輸入一段數字:\"))\n",
        "b=a.split(',')\n",
        "d=[]\n",
        "for i in range(len(b)):\n",
        "  e=0\n",
        "  for j in range(len(b)):\n",
        "    if b[i]>b[j]:\n",
        "      e+=1\n",
        "  d.append(e)\n",
        "print(d)"
      ],
      "metadata": {
        "colab": {
          "base_uri": "https://localhost:8080/"
        },
        "id": "DuwSs95gV8Kl",
        "outputId": "25728e87-1929-4044-9c56-229155e64b40"
      },
      "execution_count": 2,
      "outputs": [
        {
          "output_type": "stream",
          "name": "stdout",
          "text": [
            "請輸入一段數字:1,5,4,7,8\n",
            "[0, 2, 1, 3, 4]\n"
          ]
        }
      ]
    },
    {
      "cell_type": "code",
      "source": [
        "def a(boxes: str):\n",
        "  ans=[0]*len(boxes)\n",
        "  for i in range(len(boxes)):\n",
        "    for j in range(len(boxes)):\n",
        "      if boxes[j]=='1':\n",
        "        ans[i]+= abs(i-j)\n",
        "  return ans\n",
        "a(input(\"輸入一個由0和1組成的字串\"))"
      ],
      "metadata": {
        "colab": {
          "base_uri": "https://localhost:8080/"
        },
        "id": "KHDiT1qLWA__",
        "outputId": "056291e2-70d7-4202-969a-a60237f58075"
      },
      "execution_count": 3,
      "outputs": [
        {
          "name": "stdout",
          "output_type": "stream",
          "text": [
            "輸入一個由0和1組成的字串10110\n"
          ]
        },
        {
          "output_type": "execute_result",
          "data": {
            "text/plain": [
              "[5, 4, 3, 4, 7]"
            ]
          },
          "metadata": {},
          "execution_count": 3
        }
      ]
    }
  ]
}